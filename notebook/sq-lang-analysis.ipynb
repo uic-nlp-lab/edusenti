{
 "cells": [
  {
   "cell_type": "markdown",
   "id": "2f945679",
   "metadata": {},
   "source": [
    "# Albanian Language Analysis"
   ]
  },
  {
   "cell_type": "code",
   "execution_count": null,
   "id": "c0bc1a92",
   "metadata": {},
   "outputs": [],
   "source": [
    "from zensols.cli.notebook import NotebookManager as CliNotebookManager\n",
    "\n",
    "class NotebookManager(CliNotebookManager):\n",
    "    def __init__(self):\n",
    "        super().__init__(\n",
    "            src_dir_name='src',\n",
    "            package_resource='uic.edusenti',\n",
    "            config='../models/transformer.yml')\n",
    "\n",
    "mng = NotebookManager()\n",
    "fac = mng.get_config_factory()\n",
    "# the finetune corpus used to train the language model\n",
    "corp = fac('edusent_finetune_corpus')"
   ]
  },
  {
   "cell_type": "code",
   "execution_count": null,
   "id": "f02a5d31",
   "metadata": {},
   "outputs": [],
   "source": [
    "import pandas as pd\n",
    "from matplotlib.axes import SubplotBase\n",
    "import seaborn as sns\n",
    "\n",
    "df: pd.DataFrame = corp.persister.execute('select toklen as Tokens from sent', row_factory='pandas')\n",
    "size: int = 10\n",
    "sns.set(font_scale=1.5)\n",
    "ax = mng.subplots(height=size, width=size)\n",
    "sns.histplot(df, ax=ax, x='Tokens', binrange=[5, 100], bins=20)\n",
    "mng.save_fig(ax, 'lang-model-corpus-tokens')"
   ]
  }
 ],
 "metadata": {
  "kernelspec": {
   "display_name": "Python 3 (ipykernel)",
   "language": "python",
   "name": "python3"
  },
  "language_info": {
   "codemirror_mode": {
    "name": "ipython",
    "version": 3
   },
   "file_extension": ".py",
   "mimetype": "text/x-python",
   "name": "python",
   "nbconvert_exporter": "python",
   "pygments_lexer": "ipython3",
   "version": "3.10.2"
  }
 },
 "nbformat": 4,
 "nbformat_minor": 5
}
